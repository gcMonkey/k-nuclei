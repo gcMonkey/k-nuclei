{
 "cells": [
  {
   "cell_type": "markdown",
   "metadata": {},
   "source": [
    "Autoencoder - encode images for similarity analysis"
   ]
  },
  {
   "cell_type": "code",
   "execution_count": 2,
   "metadata": {
    "collapsed": true
   },
   "outputs": [],
   "source": [
    "from keras.layers import Input, Dense, Conv2D, MaxPooling2D, UpSampling2D\n",
    "from keras.models import Model\n",
    "from keras import regularizers"
   ]
  },
  {
   "cell_type": "code",
   "execution_count": 60,
   "metadata": {},
   "outputs": [],
   "source": [
    "input_img = Input(shape=(28, 28, 1))\n",
    "\n",
    "x = Conv2D(16, (3, 3), activation='relu', padding='same')(input_img)\n",
    "x = MaxPooling2D((2, 2), padding='same')(x)\n",
    "x = Conv2D(8, (3, 3), activation='relu', padding='same')(x)\n",
    "x = MaxPooling2D((2, 2), padding='same')(x)\n",
    "x = Conv2D(8, (3, 3), activation='relu', padding='same')(x)\n",
    "encoded = MaxPooling2D((2, 2), padding='same')(x)\n",
    "\n",
    "# at this point the representation is (4, 4, 8) i.e. 128-dimensional\n",
    "\n",
    "x = Conv2D(8, (3, 3), activation='relu', padding='same')(encoded)\n",
    "x = UpSampling2D((2, 2))(x)\n",
    "x = Conv2D(8, (3, 3), activation='relu', padding='same')(x)\n",
    "x = UpSampling2D((2, 2))(x)\n",
    "x = Conv2D(16, (3, 3), activation='relu')(x)\n",
    "x = UpSampling2D((2, 2))(x)\n",
    "decoded = Conv2D(1, (3, 3), activation='sigmoid', padding='same')(x)\n",
    "\n",
    "encoder = Model(input_img, encoded)\n",
    "\n",
    "autoencoder = Model(input_img, decoded)\n",
    "autoencoder.compile(optimizer='adadelta', loss='binary_crossentropy')"
   ]
  },
  {
   "cell_type": "code",
   "execution_count": 61,
   "metadata": {},
   "outputs": [],
   "source": [
    "from keras.datasets import mnist\n",
    "import numpy as np\n",
    "\n",
    "(x_train, _), (x_test, _) = mnist.load_data()\n",
    "\n",
    "x_train = x_train.astype('float32') / 255.\n",
    "x_test = x_test.astype('float32') / 255.\n",
    "x_train = np.reshape(x_train, (len(x_train), 28, 28, 1))  # adapt this if using `channels_first` image data format\n",
    "x_test = np.reshape(x_test, (len(x_test), 28, 28, 1))  # adapt this if using `channels_first` image data format"
   ]
  },
  {
   "cell_type": "code",
   "execution_count": 73,
   "metadata": {},
   "outputs": [
    {
     "name": "stdout",
     "output_type": "stream",
     "text": [
      "Train on 60000 samples, validate on 10000 samples\n",
      "Epoch 1/50\n",
      "60000/60000 [==============================] - 27s 457us/step - loss: 0.1154 - val_loss: 0.1126\n",
      "Epoch 2/50\n",
      "60000/60000 [==============================] - 27s 455us/step - loss: 0.1141 - val_loss: 0.1110\n",
      "Epoch 3/50\n",
      "60000/60000 [==============================] - 27s 456us/step - loss: 0.1131 - val_loss: 0.1106\n",
      "Epoch 4/50\n",
      "60000/60000 [==============================] - 27s 456us/step - loss: 0.1120 - val_loss: 0.1100\n",
      "Epoch 5/50\n",
      "60000/60000 [==============================] - 28s 460us/step - loss: 0.1113 - val_loss: 0.1090\n",
      "Epoch 6/50\n",
      "60000/60000 [==============================] - 27s 458us/step - loss: 0.1105 - val_loss: 0.1087\n",
      "Epoch 7/50\n",
      "60000/60000 [==============================] - 28s 462us/step - loss: 0.1099 - val_loss: 0.1077\n",
      "Epoch 8/50\n",
      "60000/60000 [==============================] - 27s 458us/step - loss: 0.1091 - val_loss: 0.1057\n",
      "Epoch 9/50\n",
      "60000/60000 [==============================] - 27s 455us/step - loss: 0.1085 - val_loss: 0.1079\n",
      "Epoch 10/50\n",
      "60000/60000 [==============================] - 28s 460us/step - loss: 0.1082 - val_loss: 0.1068\n",
      "Epoch 11/50\n",
      "60000/60000 [==============================] - 27s 457us/step - loss: 0.1076 - val_loss: 0.1064\n",
      "Epoch 12/50\n",
      "60000/60000 [==============================] - 28s 459us/step - loss: 0.1072 - val_loss: 0.1066\n",
      "Epoch 13/50\n",
      "60000/60000 [==============================] - 28s 460us/step - loss: 0.1067 - val_loss: 0.1045\n",
      "Epoch 14/50\n",
      "60000/60000 [==============================] - 28s 459us/step - loss: 0.1063 - val_loss: 0.1064\n",
      "Epoch 15/50\n",
      "60000/60000 [==============================] - 28s 460us/step - loss: 0.1062 - val_loss: 0.1046\n",
      "Epoch 16/50\n",
      "60000/60000 [==============================] - 28s 459us/step - loss: 0.1057 - val_loss: 0.1056\n",
      "Epoch 17/50\n",
      "60000/60000 [==============================] - 28s 460us/step - loss: 0.1052 - val_loss: 0.1039\n",
      "Epoch 18/50\n",
      "60000/60000 [==============================] - 28s 461us/step - loss: 0.1049 - val_loss: 0.1026\n",
      "Epoch 19/50\n",
      "60000/60000 [==============================] - 28s 460us/step - loss: 0.1045 - val_loss: 0.1040\n",
      "Epoch 20/50\n",
      "60000/60000 [==============================] - 28s 461us/step - loss: 0.1044 - val_loss: 0.1015\n",
      "Epoch 21/50\n",
      "60000/60000 [==============================] - 28s 462us/step - loss: 0.1036 - val_loss: 0.1013\n",
      "Epoch 22/50\n",
      "60000/60000 [==============================] - 28s 461us/step - loss: 0.1038 - val_loss: 0.1049\n",
      "Epoch 23/50\n",
      "60000/60000 [==============================] - 28s 462us/step - loss: 0.1035 - val_loss: 0.1018\n",
      "Epoch 24/50\n",
      "60000/60000 [==============================] - 28s 461us/step - loss: 0.1033 - val_loss: 0.1018\n",
      "Epoch 25/50\n",
      "60000/60000 [==============================] - 28s 461us/step - loss: 0.1028 - val_loss: 0.1031\n",
      "Epoch 26/50\n",
      "60000/60000 [==============================] - 28s 461us/step - loss: 0.1027 - val_loss: 0.1029\n",
      "Epoch 27/50\n",
      "60000/60000 [==============================] - 28s 463us/step - loss: 0.1021 - val_loss: 0.1003\n",
      "Epoch 28/50\n",
      "60000/60000 [==============================] - 28s 463us/step - loss: 0.1021 - val_loss: 0.1007\n",
      "Epoch 29/50\n",
      "60000/60000 [==============================] - 28s 463us/step - loss: 0.1020 - val_loss: 0.1003\n",
      "Epoch 30/50\n",
      "60000/60000 [==============================] - 28s 462us/step - loss: 0.1019 - val_loss: 0.1021\n",
      "Epoch 31/50\n",
      "60000/60000 [==============================] - 28s 461us/step - loss: 0.1016 - val_loss: 0.1001\n",
      "Epoch 32/50\n",
      "60000/60000 [==============================] - 28s 462us/step - loss: 0.1015 - val_loss: 0.0986\n",
      "Epoch 33/50\n",
      "60000/60000 [==============================] - 28s 463us/step - loss: 0.1012 - val_loss: 0.0999\n",
      "Epoch 34/50\n",
      "60000/60000 [==============================] - 28s 463us/step - loss: 0.1010 - val_loss: 0.0990\n",
      "Epoch 35/50\n",
      "60000/60000 [==============================] - 28s 463us/step - loss: 0.1007 - val_loss: 0.0991\n",
      "Epoch 36/50\n",
      "60000/60000 [==============================] - 28s 464us/step - loss: 0.1008 - val_loss: 0.0992\n",
      "Epoch 37/50\n",
      "60000/60000 [==============================] - 28s 463us/step - loss: 0.1006 - val_loss: 0.1014\n",
      "Epoch 38/50\n",
      "60000/60000 [==============================] - 28s 462us/step - loss: 0.1002 - val_loss: 0.0984\n",
      "Epoch 39/50\n",
      "60000/60000 [==============================] - 28s 463us/step - loss: 0.1000 - val_loss: 0.1002\n",
      "Epoch 40/50\n",
      "60000/60000 [==============================] - 27s 458us/step - loss: 0.1000 - val_loss: 0.0982\n",
      "Epoch 41/50\n",
      "60000/60000 [==============================] - 27s 458us/step - loss: 0.0997 - val_loss: 0.1011\n",
      "Epoch 42/50\n",
      "60000/60000 [==============================] - 28s 458us/step - loss: 0.0995 - val_loss: 0.0999\n",
      "Epoch 43/50\n",
      "60000/60000 [==============================] - 27s 458us/step - loss: 0.0997 - val_loss: 0.0975\n",
      "Epoch 44/50\n",
      "60000/60000 [==============================] - 27s 458us/step - loss: 0.0995 - val_loss: 0.0972\n",
      "Epoch 45/50\n",
      "60000/60000 [==============================] - 28s 459us/step - loss: 0.0995 - val_loss: 0.0986\n",
      "Epoch 46/50\n",
      "60000/60000 [==============================] - 28s 462us/step - loss: 0.0990 - val_loss: 0.0990\n",
      "Epoch 47/50\n",
      "60000/60000 [==============================] - 28s 474us/step - loss: 0.0988 - val_loss: 0.0966\n",
      "Epoch 48/50\n",
      "60000/60000 [==============================] - 28s 464us/step - loss: 0.0987 - val_loss: 0.0990\n",
      "Epoch 49/50\n",
      "60000/60000 [==============================] - 28s 470us/step - loss: 0.0984 - val_loss: 0.0966\n",
      "Epoch 50/50\n",
      "60000/60000 [==============================] - 28s 469us/step - loss: 0.0983 - val_loss: 0.0960\n"
     ]
    },
    {
     "data": {
      "text/plain": [
       "<keras.callbacks.History at 0x7f8d0ca54fd0>"
      ]
     },
     "execution_count": 73,
     "metadata": {},
     "output_type": "execute_result"
    }
   ],
   "source": [
    "from keras.callbacks import TensorBoard\n",
    "\n",
    "autoencoder.fit(x_train, x_train,\n",
    "                epochs=50,\n",
    "                batch_size=128,\n",
    "                shuffle=True,\n",
    "                validation_data=(x_test, x_test),\n",
    "                callbacks=[TensorBoard(log_dir='/tmp/autoencoder/run1')])"
   ]
  },
  {
   "cell_type": "code",
   "execution_count": 74,
   "metadata": {},
   "outputs": [
    {
     "data": {
      "image/png": "[encoded data removed]",
      "text/plain": [
       "<matplotlib.figure.Figure at 0x7f8d0ca54588>"
      ]
     },
     "metadata": {},
     "output_type": "display_data"
    }
   ],
   "source": [
    "import matplotlib.pyplot as plt\n",
    "\n",
    "decoded_imgs = autoencoder.predict(x_test)\n",
    "\n",
    "n = 10\n",
    "plt.figure(figsize=(20, 4))\n",
    "for i in range(n):\n",
    "    # display original\n",
    "    ax = plt.subplot(2, n, i + 1)\n",
    "    plt.imshow(x_test[i].reshape(28, 28))\n",
    "    plt.gray()\n",
    "    ax.get_xaxis().set_visible(False)\n",
    "    ax.get_yaxis().set_visible(False)\n",
    "\n",
    "    # display reconstruction\n",
    "    ax = plt.subplot(2, n, i + n + 1)\n",
    "    plt.imshow(decoded_imgs[i].reshape(28, 28))\n",
    "    plt.gray()\n",
    "    ax.get_xaxis().set_visible(False)\n",
    "    ax.get_yaxis().set_visible(False)\n",
    "plt.show()"
   ]
  },
  {
   "cell_type": "code",
   "execution_count": 75,
   "metadata": {
    "collapsed": true
   },
   "outputs": [],
   "source": [
    "from sklearn.cluster import KMeans"
   ]
  },
  {
   "cell_type": "code",
   "execution_count": 109,
   "metadata": {
    "collapsed": true
   },
   "outputs": [],
   "source": [
    "imgs = x_train # encoder.predict(x_train)"
   ]
  },
  {
   "cell_type": "code",
   "execution_count": 116,
   "metadata": {},
   "outputs": [],
   "source": [
    "shape = imgs.shape\n",
    "x_shape = shape[0]\n",
    "y_shape = shape[1] * shape[2] * shape[3]"
   ]
  },
  {
   "cell_type": "code",
   "execution_count": 117,
   "metadata": {},
   "outputs": [],
   "source": [
    "kmeans = KMeans().fit(imgs.reshape(x_shape, y_shape,))"
   ]
  },
  {
   "cell_type": "code",
   "execution_count": 118,
   "metadata": {},
   "outputs": [],
   "source": [
    "clusters = kmeans.predict(imgs.reshape(x_shape, y_shape,))"
   ]
  },
  {
   "cell_type": "code",
   "execution_count": 119,
   "metadata": {},
   "outputs": [
    {
     "data": {
      "image/png": "[encoded data removed]",
      "text/plain": [
       "<matplotlib.figure.Figure at 0x7f8cf61fe358>"
      ]
     },
     "metadata": {},
     "output_type": "display_data"
    }
   ],
   "source": [
    "k = 3\n",
    "n = 20\n",
    "plt.figure(figsize=(20, 4))\n",
    "for i in range(n):\n",
    "    # display original\n",
    "    ax = plt.subplot(2, n, i + 1)\n",
    "    plt.imshow(x_train[clusters == k][i].reshape(28, 28))\n",
    "    plt.gray()\n",
    "    ax.get_xaxis().set_visible(False)\n",
    "    ax.get_yaxis().set_visible(False)\n",
    "plt.show()"
   ]
  },
  {
   "cell_type": "code",
   "execution_count": 120,
   "metadata": {},
   "outputs": [
    {
     "name": "stdout",
     "output_type": "stream",
     "text": [
      "0: 5828\n",
      "1: 10849\n",
      "2: 7223\n",
      "3: 5032\n",
      "4: 8972\n",
      "5: 4861\n",
      "6: 8002\n",
      "7: 9233\n"
     ]
    }
   ],
   "source": [
    "num_clusters = len(np.unique(clusters))\n",
    "for k in range(num_clusters):\n",
    "    group = clusters[clusters == k]\n",
    "    print(str(k) + \": \" + str(len(group)))"
   ]
  },
  {
   "cell_type": "code",
   "execution_count": 121,
   "metadata": {},
   "outputs": [
    {
     "data": {
      "image/png": "[encoded data removed]",
      "text/plain": [
       "<matplotlib.figure.Figure at 0x7f8cf629e9b0>"
      ]
     },
     "metadata": {},
     "output_type": "display_data"
    },
    {
     "data": {
      "image/png": "[encoded data removed]",
      "text/plain": [
       "<matplotlib.figure.Figure at 0x7f8d05af1320>"
      ]
     },
     "metadata": {},
     "output_type": "display_data"
    },
    {
     "data": {
      "image/png": "[encoded data removed]",
      "text/plain": [
       "<matplotlib.figure.Figure at 0x7f8cf4aa6cf8>"
      ]
     },
     "metadata": {},
     "output_type": "display_data"
    },
    {
     "data": {
      "image/png": "[encoded data removed]",
      "text/plain": [
       "<matplotlib.figure.Figure at 0x7f8d8ca29860>"
      ]
     },
     "metadata": {},
     "output_type": "display_data"
    },
    {
     "data": {
      "image/png": "[encoded data removed]",
      "text/plain": [
       "<matplotlib.figure.Figure at 0x7f8d06a7bb70>"
      ]
     },
     "metadata": {},
     "output_type": "display_data"
    },
    {
     "data": {
      "image/png": "[encoded data removed]",
      "text/plain": [
       "<matplotlib.figure.Figure at 0x7f8cf6124b00>"
      ]
     },
     "metadata": {},
     "output_type": "display_data"
    },
    {
     "data": {
      "image/png": "[encoded data removed]",
      "text/plain": [
       "<matplotlib.figure.Figure at 0x7f8d0741ee48>"
      ]
     },
     "metadata": {},
     "output_type": "display_data"
    },
    {
     "data": {
      "image/png": "[encoded data removed]",
      "text/plain": [
       "<matplotlib.figure.Figure at 0x7f8d069fb470>"
      ]
     },
     "metadata": {},
     "output_type": "display_data"
    }
   ],
   "source": [
    "n = 5\n",
    "for k in range(num_clusters):\n",
    "    group = x_train[clusters == k]\n",
    "    plt.figure(figsize=(20, 4))\n",
    "    for i in range(n):\n",
    "        # display original\n",
    "        ax = plt.subplot(num_clusters, n, i + k*n + 1)\n",
    "        plt.imshow(group[i].reshape(28, 28))\n",
    "        plt.gray()\n",
    "        ax.get_xaxis().set_visible(False)\n",
    "        ax.get_yaxis().set_visible(False)\n",
    "plt.show()"
   ]
  },
  {
   "cell_type": "code",
   "execution_count": null,
   "metadata": {
    "collapsed": true
   },
   "outputs": [],
   "source": []
  }
 ],
 "metadata": {
  "kernelspec": {
   "display_name": "Python 3",
   "language": "python",
   "name": "python3"
  },
  "language_info": {
   "codemirror_mode": {
    "name": "ipython",
    "version": 3
   },
   "file_extension": ".py",
   "mimetype": "text/x-python",
   "name": "python",
   "nbconvert_exporter": "python",
   "pygments_lexer": "ipython3",
   "version": "3.5.2"
  }
 },
 "nbformat": 4,
 "nbformat_minor": 2
}
